{
  "cells": [
    {
      "cell_type": "markdown",
      "metadata": {
        "id": "O2yE05koPzFh"
      },
      "source": [
        "# Verificación de Integridad de Archivos mediante Hash\n",
        "\n",
        "En entornos reales, es fundamental asegurarse de que un archivo no se ha alterado durante su transmisión o almacenamiento. Una forma de hacerlo es generando un \"hash\" del archivo, que es una especie de huella digital única. Si dos equipos generan el mismo hash para un archivo, se puede asumir que el contenido es idéntico.\n",
        "\n",
        "En esta práctica, usamos el algoritmo MD5 para calcular el hash de un archivo que se sube desde tu ordenador. Luego, este hash puede ser compartido y comparado con el de otro equipo para garantizar la integridad del archivo.\n",
        "\n",
        "**Pasos del ejercicio:**\n",
        "\n",
        "1. **Lectura del Archivo:**  \n",
        "2. **Cálculo del Hash:**  \n",
        "3. **Comparación:**  "
      ]
    },
    {
      "cell_type": "code",
      "execution_count": null,
      "metadata": {
        "id": "jFLQMuW3PzFl"
      },
      "outputs": [],
      "source": [
        "import hashlib\n",
        "\n",
        "def compute_hash_file(file_path, algorithm='md5'):\n",
        "    \"\"\"\n",
        "    Calcula el hash de un archivo leído desde 'file_path' utilizando el algoritmo indicado.\n",
        "\n",
        "    Parámetros:\n",
        "      file_path (str): Ruta completa del archivo.\n",
        "      algorithm (str): Algoritmo hash a utilizar (por ejemplo, 'md5' o 'sha256').\n",
        "\n",
        "    Retorna:\n",
        "      str: El hash calculado en formato hexadecimal.\n",
        "    \"\"\"\n",
        "    # Crear el objeto hash correspondiente\n",
        "    h = hashlib.new(algorithm)\n",
        "\n",
        "    # Leer el archivo en modo binario, procesándolo en bloques de 4096 bytes\n",
        "    with open(file_path, 'rb') as f:\n",
        "        for chunk in iter(lambda: f.read(4096), b''):\n",
        "            h.update(chunk)\n",
        "\n",
        "    return h.hexdigest()"
      ]
    },
    {
      "cell_type": "code",
      "execution_count": 6,
      "metadata": {
        "id": "L6AqCmS4PzFm"
      },
      "outputs": [
        {
          "ename": "FileNotFoundError",
          "evalue": "[Errno 2] No such file or directory: 'CRIPTO/Data/Documento hash.docx'",
          "output_type": "error",
          "traceback": [
            "\u001b[1;31m---------------------------------------------------------------------------\u001b[0m",
            "\u001b[1;31mFileNotFoundError\u001b[0m                         Traceback (most recent call last)",
            "\u001b[1;32m~\\AppData\\Local\\Temp\\ipykernel_21040\\312638935.py\u001b[0m in \u001b[0;36m<module>\u001b[1;34m\u001b[0m\n\u001b[0;32m      5\u001b[0m \u001b[1;33m\u001b[0m\u001b[0m\n\u001b[0;32m      6\u001b[0m \u001b[1;31m# Calcular y mostrar los hashes MD5\u001b[0m\u001b[1;33m\u001b[0m\u001b[1;33m\u001b[0m\u001b[0m\n\u001b[1;32m----> 7\u001b[1;33m \u001b[0mhash_md5_original\u001b[0m \u001b[1;33m=\u001b[0m \u001b[0mcompute_hash_file\u001b[0m\u001b[1;33m(\u001b[0m\u001b[0mfile_original\u001b[0m\u001b[1;33m,\u001b[0m \u001b[1;34m'md5'\u001b[0m\u001b[1;33m)\u001b[0m\u001b[1;33m\u001b[0m\u001b[1;33m\u001b[0m\u001b[0m\n\u001b[0m\u001b[0;32m      8\u001b[0m \u001b[0mhash_md5_copy\u001b[0m \u001b[1;33m=\u001b[0m \u001b[0mcompute_hash_file\u001b[0m\u001b[1;33m(\u001b[0m\u001b[0mfile_copy\u001b[0m\u001b[1;33m,\u001b[0m \u001b[1;34m'md5'\u001b[0m\u001b[1;33m)\u001b[0m\u001b[1;33m\u001b[0m\u001b[1;33m\u001b[0m\u001b[0m\n\u001b[0;32m      9\u001b[0m \u001b[1;33m\u001b[0m\u001b[0m\n",
            "\u001b[1;32m~\\AppData\\Local\\Temp\\ipykernel_21040\\885493562.py\u001b[0m in \u001b[0;36mcompute_hash_file\u001b[1;34m(file_path, algorithm)\u001b[0m\n\u001b[0;32m     16\u001b[0m \u001b[1;33m\u001b[0m\u001b[0m\n\u001b[0;32m     17\u001b[0m     \u001b[1;31m# Leer el archivo en modo binario, procesándolo en bloques de 4096 bytes\u001b[0m\u001b[1;33m\u001b[0m\u001b[1;33m\u001b[0m\u001b[0m\n\u001b[1;32m---> 18\u001b[1;33m     \u001b[1;32mwith\u001b[0m \u001b[0mopen\u001b[0m\u001b[1;33m(\u001b[0m\u001b[0mfile_path\u001b[0m\u001b[1;33m,\u001b[0m \u001b[1;34m'rb'\u001b[0m\u001b[1;33m)\u001b[0m \u001b[1;32mas\u001b[0m \u001b[0mf\u001b[0m\u001b[1;33m:\u001b[0m\u001b[1;33m\u001b[0m\u001b[1;33m\u001b[0m\u001b[0m\n\u001b[0m\u001b[0;32m     19\u001b[0m         \u001b[1;32mfor\u001b[0m \u001b[0mchunk\u001b[0m \u001b[1;32min\u001b[0m \u001b[0miter\u001b[0m\u001b[1;33m(\u001b[0m\u001b[1;32mlambda\u001b[0m\u001b[1;33m:\u001b[0m \u001b[0mf\u001b[0m\u001b[1;33m.\u001b[0m\u001b[0mread\u001b[0m\u001b[1;33m(\u001b[0m\u001b[1;36m4096\u001b[0m\u001b[1;33m)\u001b[0m\u001b[1;33m,\u001b[0m \u001b[1;34mb''\u001b[0m\u001b[1;33m)\u001b[0m\u001b[1;33m:\u001b[0m\u001b[1;33m\u001b[0m\u001b[1;33m\u001b[0m\u001b[0m\n\u001b[0;32m     20\u001b[0m             \u001b[0mh\u001b[0m\u001b[1;33m.\u001b[0m\u001b[0mupdate\u001b[0m\u001b[1;33m(\u001b[0m\u001b[0mchunk\u001b[0m\u001b[1;33m)\u001b[0m\u001b[1;33m\u001b[0m\u001b[1;33m\u001b[0m\u001b[0m\n",
            "\u001b[1;31mFileNotFoundError\u001b[0m: [Errno 2] No such file or directory: 'CRIPTO/Data/Documento hash.docx'"
          ]
        }
      ],
      "source": [
        "# Especifica la ruta del archivo que deseas procesar\n",
        "# Ejemplo: \"C:/ruta/a/tu/archivo.pdf\" o \"/home/usuario/archivo.docx\"\n",
        "file_original = 'CRIPTO/Data/Documento hash.docx'  # Modifica esto según la ubicación de tu archivo\n",
        "file_copy = 'CRIPTO/Data/Documento hash copia.docx'# Modifica esto según la ubicación de tu archivo\n",
        "\n",
        "# Calcular y mostrar los hashes MD5\n",
        "hash_md5_original = compute_hash_file(file_original, 'md5')\n",
        "hash_md5_copy = compute_hash_file(file_copy, 'md5')\n",
        "\n",
        "print(f\"Archivo: {file_original}\")\n",
        "print(f\"MD5: {hash_md5_original}\")\n",
        "print(f\"MD5: {hash_md5_copy}\")"
      ]
    },
    {
      "cell_type": "markdown",
      "metadata": {
        "id": "DWFd2_QkPzFn"
      },
      "source": [
        "### Caso real: Integridad del documento"
      ]
    },
    {
      "cell_type": "code",
      "execution_count": null,
      "metadata": {
        "id": "bxrkFZqqPzFn"
      },
      "outputs": [],
      "source": [
        "import rsa\n",
        "\n",
        "#Generar clave privada y pública\n",
        "public_key, private_key = rsa.newkeys(1024)\n",
        "\n",
        "#Creamos los ficheros de los claves .pem\n",
        "\n",
        "with open (\"public.pem\", \"wb\") as f:\n",
        "    f.write(public_key.save_pkcs1(\"PEM\"))\n",
        "\n",
        "with open (\"private.pem\", \"wb\") as f:\n",
        "    f.write(private_key.save_pkcs1(\"PEM\"))\n",
        "\n",
        "#Cargamos las claves\n",
        "\n",
        "with open (\"public.pem\", \"rb\") as f:\n",
        "    public_key=rsa.PublicKey.load_pkcs1(f.read())\n",
        "\n",
        "with open (\"private.pem\", \"rb\") as f:\n",
        "    private_key=rsa.PrivateKey.load_pkcs1(f.read())"
      ]
    },
    {
      "cell_type": "code",
      "execution_count": null,
      "metadata": {},
      "outputs": [],
      "source": [
        "# Encriptamos hash\n",
        "\n",
        "encrypted_hash = rsa.encrypt(hash_md5_original.encode(), public_key)\n",
        "print(encrypted_hash)"
      ]
    },
    {
      "cell_type": "code",
      "execution_count": null,
      "metadata": {},
      "outputs": [],
      "source": [
        "# Desencritamos hash\n",
        "\n",
        "clear_hash = rsa.decrypt(encrypted_hash, private_key)\n",
        "print(clear_hash.decode())"
      ]
    }
  ],
  "metadata": {
    "colab": {
      "provenance": []
    },
    "kernelspec": {
      "display_name": "base",
      "language": "python",
      "name": "python3"
    },
    "language_info": {
      "codemirror_mode": {
        "name": "ipython",
        "version": 3
      },
      "file_extension": ".py",
      "mimetype": "text/x-python",
      "name": "python",
      "nbconvert_exporter": "python",
      "pygments_lexer": "ipython3",
      "version": "3.9.13"
    }
  },
  "nbformat": 4,
  "nbformat_minor": 0
}
