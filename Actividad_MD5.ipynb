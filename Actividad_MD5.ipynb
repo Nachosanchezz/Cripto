{
  "cells": [
    {
      "cell_type": "markdown",
      "metadata": {
        "id": "O2yE05koPzFh"
      },
      "source": [
        "# Verificación de Integridad de Archivos mediante Hash\n",
        "\n",
        "En entornos reales, es fundamental asegurarse de que un archivo no se ha alterado durante su transmisión o almacenamiento. Una forma de hacerlo es generando un \"hash\" del archivo, que es una especie de huella digital única. Si dos equipos generan el mismo hash para un archivo, se puede asumir que el contenido es idéntico.\n",
        "\n",
        "En esta práctica, usamos el algoritmo MD5 para calcular el hash de un archivo que se sube desde tu ordenador. Luego, este hash puede ser compartido y comparado con el de otro equipo para garantizar la integridad del archivo.\n",
        "\n",
        "**Pasos del ejercicio:**\n",
        "\n",
        "1. **Lectura del Archivo:**  \n",
        "2. **Cálculo del Hash:**  \n",
        "3. **Comparación:**  "
      ]
    },
    {
      "cell_type": "code",
      "execution_count": null,
      "metadata": {
        "id": "jFLQMuW3PzFl"
      },
      "outputs": [],
      "source": [
        "import hashlib\n",
        "\n",
        "def compute_hash_file(file_path, algorithm='md5'):\n",
        "    \"\"\"\n",
        "    Calcula el hash de un archivo leído desde 'file_path' utilizando el algoritmo indicado.\n",
        "\n",
        "    Parámetros:\n",
        "      file_path (str): Ruta completa del archivo.\n",
        "      algorithm (str): Algoritmo hash a utilizar (por ejemplo, 'md5' o 'sha256').\n",
        "\n",
        "    Retorna:\n",
        "      str: El hash calculado en formato hexadecimal.\n",
        "    \"\"\"\n",
        "    # Crear el objeto hash correspondiente\n",
        "    h = hashlib.new(algorithm)\n",
        "\n",
        "    # Leer el archivo en modo binario, procesándolo en bloques de 4096 bytes\n",
        "    with open(file_path, 'rb') as f:\n",
        "        for chunk in iter(lambda: f.read(4096), b''):\n",
        "            h.update(chunk)\n",
        "\n",
        "    return h.hexdigest()"
      ]
    },
    {
      "cell_type": "code",
      "execution_count": 10,
      "metadata": {
        "id": "L6AqCmS4PzFm"
      },
      "outputs": [
        {
          "name": "stdout",
          "output_type": "stream",
          "text": [
            "Archivo: C:\\Users\\1cnac\\OneDrive\\Documentos\\Documento hash.docx\n",
            "MD5: 97096d0bdeb4d2a0af104931e3354543\n",
            "MD5: 6c0a07ba34d0bc43888ef4b6460d88fa\n"
          ]
        }
      ],
      "source": [
        "# Especifica la ruta del archivo que deseas procesar\n",
        "# Ejemplo: \"C:/ruta/a/tu/archivo.pdf\" o \"/home/usuario/archivo.docx\"\n",
        "file_original = r'C:\\Users\\1cnac\\OneDrive\\Documentos\\Documento hash.docx'  # Modifica esto según la ubicación de tu archivo\n",
        "file_copy = r'C:\\Users\\1cnac\\OneDrive\\Documentos\\Documento hash copia.docx'# Modifica esto según la ubicación de tu archivo\n",
        "\n",
        "# Calcular y mostrar los hashes MD5\n",
        "hash_md5_original = compute_hash_file(file_original, 'md5')\n",
        "hash_md5_copy = compute_hash_file(file_copy, 'md5')\n",
        "\n",
        "print(f\"Archivo: {file_original}\")\n",
        "print(f\"MD5: {hash_md5_original}\")\n",
        "print(f\"MD5: {hash_md5_copy}\")"
      ]
    },
    {
      "cell_type": "markdown",
      "metadata": {
        "id": "DWFd2_QkPzFn"
      },
      "source": [
        "### Caso real: Integridad del documento"
      ]
    },
    {
      "cell_type": "code",
      "execution_count": 11,
      "metadata": {},
      "outputs": [
        {
          "name": "stdout",
          "output_type": "stream",
          "text": [
            "Collecting rsa\n",
            "  Downloading rsa-4.9-py3-none-any.whl (34 kB)\n",
            "Requirement already satisfied: pyasn1>=0.1.3 in c:\\users\\1cnac\\anaconda3\\lib\\site-packages (from rsa) (0.4.8)\n",
            "Installing collected packages: rsa\n",
            "Successfully installed rsa-4.9\n"
          ]
        }
      ],
      "source": [
        "!pip install rsa"
      ]
    },
    {
      "cell_type": "code",
      "execution_count": 12,
      "metadata": {
        "id": "bxrkFZqqPzFn"
      },
      "outputs": [],
      "source": [
        "import rsa\n",
        "\n",
        "#Generar clave privada y pública\n",
        "public_key, private_key = rsa.newkeys(1024)\n",
        "\n",
        "#Creamos los ficheros de los claves .pem\n",
        "\n",
        "with open (\"public.pem\", \"wb\") as f:\n",
        "    f.write(public_key.save_pkcs1(\"PEM\"))\n",
        "\n",
        "with open (\"private.pem\", \"wb\") as f:\n",
        "    f.write(private_key.save_pkcs1(\"PEM\"))\n",
        "\n",
        "#Cargamos las claves\n",
        "\n",
        "with open (\"public.pem\", \"rb\") as f:\n",
        "    public_key=rsa.PublicKey.load_pkcs1(f.read())\n",
        "\n",
        "with open (\"private.pem\", \"rb\") as f:\n",
        "    private_key=rsa.PrivateKey.load_pkcs1(f.read())"
      ]
    },
    {
      "cell_type": "code",
      "execution_count": 13,
      "metadata": {},
      "outputs": [
        {
          "name": "stdout",
          "output_type": "stream",
          "text": [
            "b'\\x12\\xae\\x81\\xa5\\x1a\\x04!\\xad\\xd7\\x07\\x81\\xeb\\xeb\\xac\\xed\\t\\xd2\\xf1O\\x95\\xbdQ\\xbf\\xa7I\\xd28\\xce|\\xae2\\xc3\\xde\\xde;\\x9c\\x9dL>%xW\\xa0e\\x0e\\x0f\\xbd\\x87\\xbd\\xa9\\xc8:o!_{g\\x84$1\\xb0\\xf8\\xffmG\\x08\\xfc\\xd9\\xf7\\xed\\xe8;Y\\xf7\\xd7\\xccG\\x1c\\xbf8\\xccH\\xe7~\\xb3\\r\\x88\\xd3k\\x0e\\x98i\\xe8\\x8e\\xb0]72\\x9f\\x98~/\\xb1\\xeb9\\x8f\\x0b\\x88\\xa1\\x96\\xa5CCp9\\xf2\\x0b\\xdf\\xf3(ML\\xff\\x9b\\xf9\\x84\\xae\\x13'\n"
          ]
        }
      ],
      "source": [
        "# Encriptamos hash\n",
        "\n",
        "encrypted_hash = rsa.encrypt(hash_md5_original.encode(), public_key)\n",
        "print(encrypted_hash)"
      ]
    },
    {
      "cell_type": "code",
      "execution_count": 14,
      "metadata": {},
      "outputs": [
        {
          "name": "stdout",
          "output_type": "stream",
          "text": [
            "97096d0bdeb4d2a0af104931e3354543\n"
          ]
        }
      ],
      "source": [
        "# Desencritamos hash\n",
        "\n",
        "clear_hash = rsa.decrypt(encrypted_hash, private_key)\n",
        "print(clear_hash.decode())"
      ]
    },
    {
      "cell_type": "code",
      "execution_count": null,
      "metadata": {},
      "outputs": [],
      "source": []
    }
  ],
  "metadata": {
    "colab": {
      "provenance": []
    },
    "kernelspec": {
      "display_name": "base",
      "language": "python",
      "name": "python3"
    },
    "language_info": {
      "codemirror_mode": {
        "name": "ipython",
        "version": 3
      },
      "file_extension": ".py",
      "mimetype": "text/x-python",
      "name": "python",
      "nbconvert_exporter": "python",
      "pygments_lexer": "ipython3",
      "version": "3.9.13"
    }
  },
  "nbformat": 4,
  "nbformat_minor": 0
}
